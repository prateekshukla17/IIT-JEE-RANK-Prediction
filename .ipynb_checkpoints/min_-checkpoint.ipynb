{
 "cells": [
  {
   "cell_type": "markdown",
   "id": "523c49e7-e817-4401-9d6d-e8e977f25731",
   "metadata": {},
   "source": [
    "<H1>DATA SCIENCE PROJECT</H1>"
   ]
  },
  {
   "cell_type": "markdown",
   "id": "4139261d-f0b3-40da-8841-b2598443ae69",
   "metadata": {},
   "source": [
    "<h2>Dataset-MAX</h2>"
   ]
  },
  {
   "cell_type": "markdown",
   "id": "b87eae57-085e-4fa0-a43e-17251c639c7d",
   "metadata": {},
   "source": [
    "<H2>Importing Modules</H2>"
   ]
  },
  {
   "cell_type": "code",
   "execution_count": 4,
   "id": "eae5ee2e-6215-4746-94a9-b3b439e9ee35",
   "metadata": {},
   "outputs": [
    {
     "name": "stdout",
     "output_type": "stream",
     "text": [
      "Warning: Looks like you're using an outdated `kagglehub` version, please consider updating (latest version: 0.3.4)\n",
      "Path to dataset files: C:\\Users\\shukl\\.cache\\kagglehub\\datasets\\breadnbu22er\\or-cr-2016-to-2024\\versions\\1\n"
     ]
    }
   ],
   "source": [
    "import kagglehub\n",
    "import pandas as pd\n",
    "import numpy as np\n",
    "import warnings\n",
    "import matplotlib.pyplot as plt\n",
    "import seaborn as sns\n",
    "from wordcloud import WordCloud\n",
    "from sklearn.preprocessing import LabelEncoder\n",
    "import warnings\n",
    "from sklearn.model_selection import train_test_split\n",
    "from sklearn.preprocessing import LabelEncoder\n",
    "from sklearn.ensemble import RandomForestClassifier, RandomForestRegressor\n",
    "from sklearn.metrics import accuracy_score, mean_squared_error\n",
    "from sklearn.tree import DecisionTreeClassifier\n",
    "from sklearn.svm import SVC\n",
    "from sklearn.neighbors import KNeighborsClassifier\n",
    "warnings.filterwarnings('ignore')\n",
    "path = kagglehub.dataset_download(\"breadnbu22er/or-cr-2016-to-2024\")\n",
    "\n",
    "print(\"Path to dataset files:\", path)"
   ]
  },
  {
   "cell_type": "code",
   "execution_count": 5,
   "id": "8f2e41cc-0747-42ad-bff3-6d24e1cc0bae",
   "metadata": {},
   "outputs": [
    {
     "data": {
      "text/html": [
       "<div>\n",
       "<style scoped>\n",
       "    .dataframe tbody tr th:only-of-type {\n",
       "        vertical-align: middle;\n",
       "    }\n",
       "\n",
       "    .dataframe tbody tr th {\n",
       "        vertical-align: top;\n",
       "    }\n",
       "\n",
       "    .dataframe thead th {\n",
       "        text-align: right;\n",
       "    }\n",
       "</style>\n",
       "<table border=\"1\" class=\"dataframe\">\n",
       "  <thead>\n",
       "    <tr style=\"text-align: right;\">\n",
       "      <th></th>\n",
       "      <th>Institute</th>\n",
       "      <th>Quota</th>\n",
       "      <th>Gender</th>\n",
       "      <th>Year</th>\n",
       "      <th>Academic_Program_Name</th>\n",
       "      <th>Closing_Rank</th>\n",
       "      <th>Opening_Rank</th>\n",
       "      <th>Seat_Type</th>\n",
       "    </tr>\n",
       "  </thead>\n",
       "  <tbody>\n",
       "    <tr>\n",
       "      <th>0</th>\n",
       "      <td>Indian Institute of Technology Bhubaneswar</td>\n",
       "      <td>AI</td>\n",
       "      <td>Gender-Neutral</td>\n",
       "      <td>2016</td>\n",
       "      <td>Mechanical Engineering (4 Years, Bachelor of T...</td>\n",
       "      <td>651</td>\n",
       "      <td>583</td>\n",
       "      <td>ST</td>\n",
       "    </tr>\n",
       "    <tr>\n",
       "      <th>1</th>\n",
       "      <td>Indian Institute of Technology Bombay</td>\n",
       "      <td>AI</td>\n",
       "      <td>Gender-Neutral</td>\n",
       "      <td>2016</td>\n",
       "      <td>Civil Engineering (4 Years, Bachelor of Techno...</td>\n",
       "      <td>21</td>\n",
       "      <td>21</td>\n",
       "      <td>OBC-NCL (PwD)</td>\n",
       "    </tr>\n",
       "    <tr>\n",
       "      <th>2</th>\n",
       "      <td>Indian Institute of Technology Bombay</td>\n",
       "      <td>AI</td>\n",
       "      <td>Gender-Neutral</td>\n",
       "      <td>2016</td>\n",
       "      <td>Computer Science and Engineering (4 Years, Bac...</td>\n",
       "      <td>60</td>\n",
       "      <td>1</td>\n",
       "      <td>OPEN</td>\n",
       "    </tr>\n",
       "    <tr>\n",
       "      <th>3</th>\n",
       "      <td>Indian Institute of Technology Bombay</td>\n",
       "      <td>AI</td>\n",
       "      <td>Gender-Neutral</td>\n",
       "      <td>2016</td>\n",
       "      <td>Energy Engineering with M.Tech. in Energy Syst...</td>\n",
       "      <td>848</td>\n",
       "      <td>338</td>\n",
       "      <td>SC</td>\n",
       "    </tr>\n",
       "    <tr>\n",
       "      <th>4</th>\n",
       "      <td>Indian Institute of Technology Bombay</td>\n",
       "      <td>AI</td>\n",
       "      <td>Gender-Neutral</td>\n",
       "      <td>2016</td>\n",
       "      <td>Metallurgical Engineering and Materials Scienc...</td>\n",
       "      <td>2971</td>\n",
       "      <td>1657</td>\n",
       "      <td>OPEN</td>\n",
       "    </tr>\n",
       "  </tbody>\n",
       "</table>\n",
       "</div>"
      ],
      "text/plain": [
       "                                    Institute Quota          Gender  Year  \\\n",
       "0  Indian Institute of Technology Bhubaneswar    AI  Gender-Neutral  2016   \n",
       "1       Indian Institute of Technology Bombay    AI  Gender-Neutral  2016   \n",
       "2       Indian Institute of Technology Bombay    AI  Gender-Neutral  2016   \n",
       "3       Indian Institute of Technology Bombay    AI  Gender-Neutral  2016   \n",
       "4       Indian Institute of Technology Bombay    AI  Gender-Neutral  2016   \n",
       "\n",
       "                               Academic_Program_Name Closing_Rank  \\\n",
       "0  Mechanical Engineering (4 Years, Bachelor of T...          651   \n",
       "1  Civil Engineering (4 Years, Bachelor of Techno...           21   \n",
       "2  Computer Science and Engineering (4 Years, Bac...           60   \n",
       "3  Energy Engineering with M.Tech. in Energy Syst...          848   \n",
       "4  Metallurgical Engineering and Materials Scienc...         2971   \n",
       "\n",
       "  Opening_Rank      Seat_Type  \n",
       "0          583             ST  \n",
       "1           21  OBC-NCL (PwD)  \n",
       "2            1           OPEN  \n",
       "3          338             SC  \n",
       "4         1657           OPEN  "
      ]
     },
     "execution_count": 5,
     "metadata": {},
     "output_type": "execute_result"
    }
   ],
   "source": [
    "data_master=pd.read_csv('DataSet.csv')\n",
    "data_master.describe()\n",
    "data_master.head()"
   ]
  },
  {
   "cell_type": "markdown",
   "id": "72676c91-d62a-4f84-877a-77d4ff519a8a",
   "metadata": {},
   "source": [
    "<h2>Data Preprocessing</h2>"
   ]
  },
  {
   "cell_type": "markdown",
   "id": "003f48aa-80b3-47d5-a946-3a228ab3d8d8",
   "metadata": {},
   "source": [
    "<h3>Replacing Missing Values with Max Values</h3>"
   ]
  },
  {
   "cell_type": "code",
   "execution_count": 6,
   "id": "ef6848e5-e5f3-4870-aa7a-1ef7ce254c66",
   "metadata": {},
   "outputs": [
    {
     "data": {
      "text/html": [
       "<div>\n",
       "<style scoped>\n",
       "    .dataframe tbody tr th:only-of-type {\n",
       "        vertical-align: middle;\n",
       "    }\n",
       "\n",
       "    .dataframe tbody tr th {\n",
       "        vertical-align: top;\n",
       "    }\n",
       "\n",
       "    .dataframe thead th {\n",
       "        text-align: right;\n",
       "    }\n",
       "</style>\n",
       "<table border=\"1\" class=\"dataframe\">\n",
       "  <thead>\n",
       "    <tr style=\"text-align: right;\">\n",
       "      <th></th>\n",
       "      <th>Year</th>\n",
       "    </tr>\n",
       "  </thead>\n",
       "  <tbody>\n",
       "    <tr>\n",
       "      <th>count</th>\n",
       "      <td>20834.000000</td>\n",
       "    </tr>\n",
       "    <tr>\n",
       "      <th>mean</th>\n",
       "      <td>2020.728281</td>\n",
       "    </tr>\n",
       "    <tr>\n",
       "      <th>std</th>\n",
       "      <td>2.374532</td>\n",
       "    </tr>\n",
       "    <tr>\n",
       "      <th>min</th>\n",
       "      <td>2016.000000</td>\n",
       "    </tr>\n",
       "    <tr>\n",
       "      <th>25%</th>\n",
       "      <td>2019.000000</td>\n",
       "    </tr>\n",
       "    <tr>\n",
       "      <th>50%</th>\n",
       "      <td>2021.000000</td>\n",
       "    </tr>\n",
       "    <tr>\n",
       "      <th>75%</th>\n",
       "      <td>2023.000000</td>\n",
       "    </tr>\n",
       "    <tr>\n",
       "      <th>max</th>\n",
       "      <td>2024.000000</td>\n",
       "    </tr>\n",
       "  </tbody>\n",
       "</table>\n",
       "</div>"
      ],
      "text/plain": [
       "               Year\n",
       "count  20834.000000\n",
       "mean    2020.728281\n",
       "std        2.374532\n",
       "min     2016.000000\n",
       "25%     2019.000000\n",
       "50%     2021.000000\n",
       "75%     2023.000000\n",
       "max     2024.000000"
      ]
     },
     "execution_count": 6,
     "metadata": {},
     "output_type": "execute_result"
    }
   ],
   "source": [
    "data_max=pd.read_csv('DataSet-max.csv')\n",
    "data_max.describe()"
   ]
  },
  {
   "cell_type": "code",
   "execution_count": 7,
   "id": "2338ca72-23a5-4d5f-b641-d5260eb8cece",
   "metadata": {},
   "outputs": [
    {
     "name": "stdout",
     "output_type": "stream",
     "text": [
      "Missing values in dataset:\n",
      " Institute                 1\n",
      "Quota                     1\n",
      "Gender                    1\n",
      "Year                      0\n",
      "Academic_Program_Name     1\n",
      "Closing_Rank             41\n",
      "Opening_Rank             37\n",
      "Seat_Type                 1\n",
      "dtype: int64\n"
     ]
    }
   ],
   "source": [
    "print(\"Missing values in dataset:\\n\", data_max.isnull().sum())"
   ]
  },
  {
   "cell_type": "code",
   "execution_count": 8,
   "id": "84bada1f-d70a-4990-8d9c-e1fb9e8ff446",
   "metadata": {},
   "outputs": [
    {
     "name": "stdout",
     "output_type": "stream",
     "text": [
      "Missing values after filling:\n",
      " Institute                1\n",
      "Quota                    1\n",
      "Gender                   1\n",
      "Year                     0\n",
      "Academic_Program_Name    1\n",
      "Closing_Rank             0\n",
      "Opening_Rank             0\n",
      "Seat_Type                1\n",
      "dtype: int64\n"
     ]
    },
    {
     "data": {
      "text/plain": [
       "Institute                 object\n",
       "Quota                     object\n",
       "Gender                    object\n",
       "Year                       int64\n",
       "Academic_Program_Name     object\n",
       "Closing_Rank             float64\n",
       "Opening_Rank             float64\n",
       "Seat_Type                 object\n",
       "dtype: object"
      ]
     },
     "execution_count": 8,
     "metadata": {},
     "output_type": "execute_result"
    }
   ],
   "source": [
    "data_max['Closing_Rank'] = pd.to_numeric(data_max['Closing_Rank'], errors='coerce')\n",
    "data_max['Opening_Rank'] = pd.to_numeric(data_max['Opening_Rank'], errors='coerce')\n",
    "\n",
    "\n",
    "max_closing_rank = data_max['Closing_Rank'].mean()\n",
    "max_opening_rank = data_max['Opening_Rank'].mean()\n",
    "\n",
    "\n",
    "data_max['Closing_Rank'].fillna(max_closing_rank, inplace=True)\n",
    "data_max['Opening_Rank'].fillna(max_opening_rank, inplace=True)\n",
    "\n",
    "\n",
    "print(\"Missing values after filling:\\n\", data_max.isnull().sum())\n",
    "data_max.dtypes"
   ]
  },
  {
   "cell_type": "markdown",
   "id": "956ba62d-6861-4226-a764-00cec700453d",
   "metadata": {},
   "source": [
    "<h1>Data Visualization</h1>"
   ]
  },
  {
   "cell_type": "code",
   "execution_count": 9,
   "id": "d1038e7e-3a58-4fe8-95db-0748eaa6169a",
   "metadata": {},
   "outputs": [
    {
     "data": {
      "image/png": "[encoded data removed]",
      "text/plain": [
       "<Figure size 600x400 with 1 Axes>"
      ]
     },
     "metadata": {},
     "output_type": "display_data"
    }
   ],
   "source": [
    "plt.figure(figsize=(6,4))\n",
    "sns.histplot(x='Institute', data=data_max, hue='Institute', palette='pastel', legend=False)\n",
    "plt.xticks(rotation=90)\n",
    "plt.xlabel('Institute Name')\n",
    "plt.ylabel('Total seats')\n",
    "plt.title('Seat Distribution among Institutes');"
   ]
  },
  {
   "cell_type": "markdown",
   "id": "fc47448c-7b21-4dd6-97b0-1946d44e3056",
   "metadata": {},
   "source": [
    "<h2>Label Encoding</h2>"
   ]
  },
  {
   "cell_type": "code",
   "execution_count": 10,
   "id": "a3d6ab2e-0496-4b18-9661-a224b6b3e68b",
   "metadata": {},
   "outputs": [],
   "source": [
    "\n",
    "label_encoders = {}\n",
    "for column in ['Institute', 'Quota', 'Gender']:\n",
    "    le = LabelEncoder()\n",
    "    data_max[column] = le.fit_transform(data_max[column])\n",
    "    label_encoders[column] = le"
   ]
  },
  {
   "cell_type": "code",
   "execution_count": 11,
   "id": "42da37bd-e5a9-4494-a74a-75a26ed7f1b9",
   "metadata": {},
   "outputs": [],
   "source": [
    "data_max['Rank'] = (data_max['Opening_Rank'] + data_max['Closing_Rank']) / 2"
   ]
  },
  {
   "cell_type": "code",
   "execution_count": 12,
   "id": "9cf15cac-931d-4e4e-8eb3-1a8aff196d0a",
   "metadata": {},
   "outputs": [],
   "source": [
    "X = data_max[['Rank', 'Quota', 'Gender']]\n",
    "y = data_max['Institute']"
   ]
  },
  {
   "cell_type": "code",
   "execution_count": 13,
   "id": "622db448-fe4d-439b-ac43-9a49bd755f2b",
   "metadata": {},
   "outputs": [],
   "source": [
    "X_train, X_test, y_train, y_test = train_test_split(X, y, test_size=0.3, random_state=1)"
   ]
  },
  {
   "cell_type": "markdown",
   "id": "7e47ab7f-9e9a-4ca8-ba00-f3e5aeb01c81",
   "metadata": {},
   "source": [
    "<H2>Defining Models</H2>"
   ]
  },
  {
   "cell_type": "code",
   "execution_count": 14,
   "id": "ca5ddc31-9605-4c3b-b4d2-d9235278b120",
   "metadata": {},
   "outputs": [],
   "source": [
    "classifier = RandomForestClassifier(random_state=1)\n",
    "decision_tree = DecisionTreeClassifier(random_state=1)\n",
    "svm_classifier = SVC(kernel='linear')\n",
    "knn_classifier = KNeighborsClassifier(n_neighbors=5) "
   ]
  },
  {
   "cell_type": "markdown",
   "id": "8e05f96c-7ed6-48c9-a1af-0122126f32c6",
   "metadata": {},
   "source": [
    "<h3>Tranning Random Forest Classification Model</h3>"
   ]
  },
  {
   "cell_type": "code",
   "execution_count": 15,
   "id": "58715a1f-f3cc-45da-9555-63fe682c6603",
   "metadata": {},
   "outputs": [
    {
     "name": "stdout",
     "output_type": "stream",
     "text": [
      "Classification Model Accuracy: 0.07950727883538634\n"
     ]
    }
   ],
   "source": [
    "classifier.fit(X_train, y_train)\n",
    "y_pred_classifier = classifier.predict(X_test)\n",
    "classifier_accuracy = accuracy_score(y_test, y_pred_classifier)\n",
    "print(f\"Classification Model Accuracy: {classifier_accuracy}\")"
   ]
  },
  {
   "cell_type": "markdown",
   "id": "899f588f-1890-4759-b816-af5cafb8611a",
   "metadata": {},
   "source": [
    "<h2>Tranning Decision Tree Model</h2>"
   ]
  },
  {
   "cell_type": "code",
   "execution_count": 16,
   "id": "0a79053e-e46c-493d-864c-ba235117638f",
   "metadata": {},
   "outputs": [
    {
     "name": "stdout",
     "output_type": "stream",
     "text": [
      "Decision Tree Classifier Accuracy: 0.08030715085586307\n"
     ]
    }
   ],
   "source": [
    "decision_tree.fit(X_train, y_train)\n",
    "y_pred_decision_tree = decision_tree.predict(X_test)\n",
    "decision_tree_accuracy = accuracy_score(y_test, y_pred_decision_tree)\n",
    "print(f\"Decision Tree Classifier Accuracy: {decision_tree_accuracy}\")"
   ]
  },
  {
   "cell_type": "markdown",
   "id": "e8f295d8-8024-4953-9155-1aa2a46aa600",
   "metadata": {},
   "source": [
    "<H2>Tranning SVM</H2>"
   ]
  },
  {
   "cell_type": "code",
   "execution_count": 17,
   "id": "2312b1ce-15bc-4523-ac20-19b9fbac746f",
   "metadata": {},
   "outputs": [],
   "source": [
    "#svm_classifier.fit(X_train, y_train)\n",
    "#y_pred_svm = svm_classifier.predict(X_test)\n",
    "#svm_accuracy = accuracy_score(y_test, y_pred_svm)\n",
    "#print(f\"SVM Classifier Accuracy: {svm_accuracy}\")"
   ]
  },
  {
   "cell_type": "markdown",
   "id": "7690a583-c474-4f73-90d9-e8fa368ab05e",
   "metadata": {},
   "source": [
    "<h2>Tranning KNN Model</h2>"
   ]
  },
  {
   "cell_type": "code",
   "execution_count": 18,
   "id": "a469016f-5289-42aa-9669-d3da02e22574",
   "metadata": {},
   "outputs": [
    {
     "name": "stdout",
     "output_type": "stream",
     "text": [
      "KNN Classifier Accuracy: 0.08142697168453047\n"
     ]
    }
   ],
   "source": [
    "knn_classifier.fit(X_train, y_train)\n",
    "y_pred_knn = knn_classifier.predict(X_test)\n",
    "knn_accuracy = accuracy_score(y_test, y_pred_knn)\n",
    "print(f\"KNN Classifier Accuracy: {knn_accuracy}\")"
   ]
  },
  {
   "cell_type": "code",
   "execution_count": 19,
   "id": "9eca7c6e-8d55-416b-9794-7875bf38d606",
   "metadata": {},
   "outputs": [],
   "source": [
    "def predict_institute(rank, quota, gender):\n",
    "\n",
    "    encoded_quota = label_encoders['Quota'].transform([quota])[0]\n",
    "    encoded_gender = label_encoders['Gender'].transform([gender])[0]\n",
    "\n",
    "    input_data = pd.DataFrame([[rank, encoded_quota, encoded_gender]],\n",
    "                              columns=['Rank', 'Quota', 'Gender'])\n",
    "    \n",
    "    institute_encoded = decision_tree.predict(input_data)[0]\n",
    "    \n",
    "    institute_name = label_encoders['Institute'].inverse_transform([institute_encoded])[0]\n",
    "    \n",
    "    return institute_name"
   ]
  },
  {
   "cell_type": "code",
   "execution_count": 20,
   "id": "34658498-a3dd-42e3-aa4c-468d46ea52a1",
   "metadata": {},
   "outputs": [
    {
     "name": "stdout",
     "output_type": "stream",
     "text": [
      "Predicted College: Indian Institute of Technology Kharagpur\n"
     ]
    }
   ],
   "source": [
    "rank = 60\n",
    "quota = 'AI'  \n",
    "gender = 'Gender-Neutral'  \n",
    "\n",
    "predicted_institute = predict_institute(rank, quota, gender)\n",
    "print(f\"Predicted College: {predicted_institute}\")"
   ]
  },
  {
   "cell_type": "code",
   "execution_count": null,
   "id": "88e3e7d5-e036-420d-99be-488140e1cbfb",
   "metadata": {},
   "outputs": [],
   "source": []
  }
 ],
 "metadata": {
  "kernelspec": {
   "display_name": "Python 3 (ipykernel)",
   "language": "python",
   "name": "python3"
  },
  "language_info": {
   "codemirror_mode": {
    "name": "ipython",
    "version": 3
   },
   "file_extension": ".py",
   "mimetype": "text/x-python",
   "name": "python",
   "nbconvert_exporter": "python",
   "pygments_lexer": "ipython3",
   "version": "3.12.4"
  }
 },
 "nbformat": 4,
 "nbformat_minor": 5
}

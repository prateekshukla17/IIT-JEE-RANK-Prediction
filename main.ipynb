{
 "cells": [
  {
   "cell_type": "code",
   "execution_count": 6,
   "id": "eae5ee2e-6215-4746-94a9-b3b439e9ee35",
   "metadata": {},
   "outputs": [
    {
     "name": "stdout",
     "output_type": "stream",
     "text": [
      "Path to dataset files: C:\\Users\\shukl\\.cache\\kagglehub\\datasets\\breadnbu22er\\or-cr-2016-to-2024\\versions\\1\n"
     ]
    }
   ],
   "source": [
    "import kagglehub\n",
    "import pandas as pd\n",
    "import numpy as np\n",
    "import warnings\n",
    "warnings.filterwarnings(\"ignore\", category=pd.errors.SettingWithCopyWarning)\n",
    "path = kagglehub.dataset_download(\"breadnbu22er/or-cr-2016-to-2024\")\n",
    "\n",
    "print(\"Path to dataset files:\", path)"
   ]
  },
  {
   "cell_type": "code",
   "execution_count": 20,
   "id": "8f2e41cc-0747-42ad-bff3-6d24e1cc0bae",
   "metadata": {},
   "outputs": [
    {
     "data": {
      "text/html": [
       "<div>\n",
       "<style scoped>\n",
       "    .dataframe tbody tr th:only-of-type {\n",
       "        vertical-align: middle;\n",
       "    }\n",
       "\n",
       "    .dataframe tbody tr th {\n",
       "        vertical-align: top;\n",
       "    }\n",
       "\n",
       "    .dataframe thead th {\n",
       "        text-align: right;\n",
       "    }\n",
       "</style>\n",
       "<table border=\"1\" class=\"dataframe\">\n",
       "  <thead>\n",
       "    <tr style=\"text-align: right;\">\n",
       "      <th></th>\n",
       "      <th>Institute</th>\n",
       "      <th>Quota</th>\n",
       "      <th>Gender</th>\n",
       "      <th>Year</th>\n",
       "      <th>Academic_Program_Name</th>\n",
       "      <th>Closing_Rank</th>\n",
       "      <th>Opening_Rank</th>\n",
       "      <th>Seat_Type</th>\n",
       "    </tr>\n",
       "  </thead>\n",
       "  <tbody>\n",
       "    <tr>\n",
       "      <th>0</th>\n",
       "      <td>Indian Institute of Technology Bhubaneswar</td>\n",
       "      <td>AI</td>\n",
       "      <td>Gender-Neutral</td>\n",
       "      <td>2016</td>\n",
       "      <td>Mechanical Engineering (4 Years, Bachelor of T...</td>\n",
       "      <td>651</td>\n",
       "      <td>583</td>\n",
       "      <td>ST</td>\n",
       "    </tr>\n",
       "    <tr>\n",
       "      <th>1</th>\n",
       "      <td>Indian Institute of Technology Bombay</td>\n",
       "      <td>AI</td>\n",
       "      <td>Gender-Neutral</td>\n",
       "      <td>2016</td>\n",
       "      <td>Civil Engineering (4 Years, Bachelor of Techno...</td>\n",
       "      <td>21</td>\n",
       "      <td>21</td>\n",
       "      <td>OBC-NCL (PwD)</td>\n",
       "    </tr>\n",
       "    <tr>\n",
       "      <th>2</th>\n",
       "      <td>Indian Institute of Technology Bombay</td>\n",
       "      <td>AI</td>\n",
       "      <td>Gender-Neutral</td>\n",
       "      <td>2016</td>\n",
       "      <td>Computer Science and Engineering (4 Years, Bac...</td>\n",
       "      <td>60</td>\n",
       "      <td>1</td>\n",
       "      <td>OPEN</td>\n",
       "    </tr>\n",
       "    <tr>\n",
       "      <th>3</th>\n",
       "      <td>Indian Institute of Technology Bombay</td>\n",
       "      <td>AI</td>\n",
       "      <td>Gender-Neutral</td>\n",
       "      <td>2016</td>\n",
       "      <td>Energy Engineering with M.Tech. in Energy Syst...</td>\n",
       "      <td>848</td>\n",
       "      <td>338</td>\n",
       "      <td>SC</td>\n",
       "    </tr>\n",
       "    <tr>\n",
       "      <th>4</th>\n",
       "      <td>Indian Institute of Technology Bombay</td>\n",
       "      <td>AI</td>\n",
       "      <td>Gender-Neutral</td>\n",
       "      <td>2016</td>\n",
       "      <td>Metallurgical Engineering and Materials Scienc...</td>\n",
       "      <td>2971</td>\n",
       "      <td>1657</td>\n",
       "      <td>OPEN</td>\n",
       "    </tr>\n",
       "  </tbody>\n",
       "</table>\n",
       "</div>"
      ],
      "text/plain": [
       "                                    Institute Quota          Gender  Year  \\\n",
       "0  Indian Institute of Technology Bhubaneswar    AI  Gender-Neutral  2016   \n",
       "1       Indian Institute of Technology Bombay    AI  Gender-Neutral  2016   \n",
       "2       Indian Institute of Technology Bombay    AI  Gender-Neutral  2016   \n",
       "3       Indian Institute of Technology Bombay    AI  Gender-Neutral  2016   \n",
       "4       Indian Institute of Technology Bombay    AI  Gender-Neutral  2016   \n",
       "\n",
       "                               Academic_Program_Name Closing_Rank  \\\n",
       "0  Mechanical Engineering (4 Years, Bachelor of T...          651   \n",
       "1  Civil Engineering (4 Years, Bachelor of Techno...           21   \n",
       "2  Computer Science and Engineering (4 Years, Bac...           60   \n",
       "3  Energy Engineering with M.Tech. in Energy Syst...          848   \n",
       "4  Metallurgical Engineering and Materials Scienc...         2971   \n",
       "\n",
       "  Opening_Rank      Seat_Type  \n",
       "0          583             ST  \n",
       "1           21  OBC-NCL (PwD)  \n",
       "2            1           OPEN  \n",
       "3          338             SC  \n",
       "4         1657           OPEN  "
      ]
     },
     "execution_count": 20,
     "metadata": {},
     "output_type": "execute_result"
    }
   ],
   "source": [
    "data_master=pd.read_csv('DataSet.csv')\n",
    "data_master.describe()\n",
    "data_master.head()"
   ]
  },
  {
   "cell_type": "markdown",
   "id": "d7238fee-00ef-4a84-a838-a32cc6684bdf",
   "metadata": {},
   "source": [
    "<H1>DataPreprocessing</H1>"
   ]
  },
  {
   "cell_type": "markdown",
   "id": "c9ab6374-2d46-4912-a10d-bc29f251e305",
   "metadata": {},
   "source": [
    "<h3>Replacing Missing Values with min </h3>"
   ]
  },
  {
   "cell_type": "code",
   "execution_count": 15,
   "id": "c4fbf217-cc59-4d78-9d4e-2f264c33d353",
   "metadata": {},
   "outputs": [
    {
     "data": {
      "text/html": [
       "<div>\n",
       "<style scoped>\n",
       "    .dataframe tbody tr th:only-of-type {\n",
       "        vertical-align: middle;\n",
       "    }\n",
       "\n",
       "    .dataframe tbody tr th {\n",
       "        vertical-align: top;\n",
       "    }\n",
       "\n",
       "    .dataframe thead th {\n",
       "        text-align: right;\n",
       "    }\n",
       "</style>\n",
       "<table border=\"1\" class=\"dataframe\">\n",
       "  <thead>\n",
       "    <tr style=\"text-align: right;\">\n",
       "      <th></th>\n",
       "      <th>Year</th>\n",
       "    </tr>\n",
       "  </thead>\n",
       "  <tbody>\n",
       "    <tr>\n",
       "      <th>count</th>\n",
       "      <td>20834.000000</td>\n",
       "    </tr>\n",
       "    <tr>\n",
       "      <th>mean</th>\n",
       "      <td>2020.728281</td>\n",
       "    </tr>\n",
       "    <tr>\n",
       "      <th>std</th>\n",
       "      <td>2.374532</td>\n",
       "    </tr>\n",
       "    <tr>\n",
       "      <th>min</th>\n",
       "      <td>2016.000000</td>\n",
       "    </tr>\n",
       "    <tr>\n",
       "      <th>25%</th>\n",
       "      <td>2019.000000</td>\n",
       "    </tr>\n",
       "    <tr>\n",
       "      <th>50%</th>\n",
       "      <td>2021.000000</td>\n",
       "    </tr>\n",
       "    <tr>\n",
       "      <th>75%</th>\n",
       "      <td>2023.000000</td>\n",
       "    </tr>\n",
       "    <tr>\n",
       "      <th>max</th>\n",
       "      <td>2024.000000</td>\n",
       "    </tr>\n",
       "  </tbody>\n",
       "</table>\n",
       "</div>"
      ],
      "text/plain": [
       "               Year\n",
       "count  20834.000000\n",
       "mean    2020.728281\n",
       "std        2.374532\n",
       "min     2016.000000\n",
       "25%     2019.000000\n",
       "50%     2021.000000\n",
       "75%     2023.000000\n",
       "max     2024.000000"
      ]
     },
     "execution_count": 15,
     "metadata": {},
     "output_type": "execute_result"
    }
   ],
   "source": [
    "data_min=pd.read_csv('DataSet-min.csv')\n",
    "data_min.describe()"
   ]
  },
  {
   "cell_type": "code",
   "execution_count": 17,
   "id": "3895073e-8694-4682-b81c-98af487dbbcc",
   "metadata": {},
   "outputs": [
    {
     "name": "stdout",
     "output_type": "stream",
     "text": [
      "Missing values in dataset:\n",
      " Institute                 1\n",
      "Quota                     1\n",
      "Gender                    1\n",
      "Year                      0\n",
      "Academic_Program_Name     1\n",
      "Closing_Rank             14\n",
      "Opening_Rank             12\n",
      "Seat_Type                 1\n",
      "dtype: int64\n"
     ]
    }
   ],
   "source": [
    "print(\"Missing values in dataset:\\n\", data_min.isnull().sum())"
   ]
  },
  {
   "cell_type": "code",
   "execution_count": null,
   "id": "1e6a7cdd-43a4-4725-a2f1-2cc96c05211c",
   "metadata": {},
   "outputs": [],
   "source": [
    "\n",
    "data_min['Closing_Rank'] = pd.to_numeric(data_min['Closing_Rank'], errors='coerce')\n",
    "data_min['Opening_Rank'] = pd.to_numeric(data_min['Opening_Rank'], errors='coerce')\n",
    "\n",
    "\n",
    "min_closing_rank = data_min['Closing_Rank'].min()\n",
    "min_opening_rank = data_min['Opening_Rank'].min()\n",
    "\n",
    "\n",
    "data_min['Closing_Rank'].fillna(min_closing_rank, inplace=True)\n",
    "data_min['Opening_Rank'].fillna(min_opening_rank, inplace=True)\n",
    "\n",
    "\n",
    "print(\"Missing values after filling:\\n\", data_min.isnull().sum())"
   ]
  },
  {
   "cell_type": "markdown",
   "id": "8ac4dde2-e162-46cc-9eff-e9a015a79687",
   "metadata": {},
   "source": [
    "<h3>Replacing Missing Values with Average Values</h3>"
   ]
  },
  {
   "cell_type": "code",
   "execution_count": 25,
   "id": "3b3e161f-8eec-4fc9-9fb7-f50e23e48db3",
   "metadata": {},
   "outputs": [
    {
     "data": {
      "text/html": [
       "<div>\n",
       "<style scoped>\n",
       "    .dataframe tbody tr th:only-of-type {\n",
       "        vertical-align: middle;\n",
       "    }\n",
       "\n",
       "    .dataframe tbody tr th {\n",
       "        vertical-align: top;\n",
       "    }\n",
       "\n",
       "    .dataframe thead th {\n",
       "        text-align: right;\n",
       "    }\n",
       "</style>\n",
       "<table border=\"1\" class=\"dataframe\">\n",
       "  <thead>\n",
       "    <tr style=\"text-align: right;\">\n",
       "      <th></th>\n",
       "      <th>Year</th>\n",
       "    </tr>\n",
       "  </thead>\n",
       "  <tbody>\n",
       "    <tr>\n",
       "      <th>count</th>\n",
       "      <td>20834.000000</td>\n",
       "    </tr>\n",
       "    <tr>\n",
       "      <th>mean</th>\n",
       "      <td>2020.728281</td>\n",
       "    </tr>\n",
       "    <tr>\n",
       "      <th>std</th>\n",
       "      <td>2.374532</td>\n",
       "    </tr>\n",
       "    <tr>\n",
       "      <th>min</th>\n",
       "      <td>2016.000000</td>\n",
       "    </tr>\n",
       "    <tr>\n",
       "      <th>25%</th>\n",
       "      <td>2019.000000</td>\n",
       "    </tr>\n",
       "    <tr>\n",
       "      <th>50%</th>\n",
       "      <td>2021.000000</td>\n",
       "    </tr>\n",
       "    <tr>\n",
       "      <th>75%</th>\n",
       "      <td>2023.000000</td>\n",
       "    </tr>\n",
       "    <tr>\n",
       "      <th>max</th>\n",
       "      <td>2024.000000</td>\n",
       "    </tr>\n",
       "  </tbody>\n",
       "</table>\n",
       "</div>"
      ],
      "text/plain": [
       "               Year\n",
       "count  20834.000000\n",
       "mean    2020.728281\n",
       "std        2.374532\n",
       "min     2016.000000\n",
       "25%     2019.000000\n",
       "50%     2021.000000\n",
       "75%     2023.000000\n",
       "max     2024.000000"
      ]
     },
     "execution_count": 25,
     "metadata": {},
     "output_type": "execute_result"
    }
   ],
   "source": [
    "data_avg=pd.read_csv('DataSet-avg.csv')\n",
    "data_avg.describe()"
   ]
  },
  {
   "cell_type": "code",
   "execution_count": 26,
   "id": "1295a698-898b-4c41-8927-da2282e7a622",
   "metadata": {},
   "outputs": [
    {
     "name": "stdout",
     "output_type": "stream",
     "text": [
      "Missing values in dataset:\n",
      " Institute                 1\n",
      "Quota                     1\n",
      "Gender                    1\n",
      "Year                      0\n",
      "Academic_Program_Name     1\n",
      "Closing_Rank             41\n",
      "Opening_Rank             37\n",
      "Seat_Type                 1\n",
      "dtype: int64\n"
     ]
    }
   ],
   "source": [
    "print(\"Missing values in dataset:\\n\", data_min.isnull().sum())"
   ]
  },
  {
   "cell_type": "code",
   "execution_count": 30,
   "id": "aa20b922-dc13-49e4-a524-d86e5e58a307",
   "metadata": {},
   "outputs": [
    {
     "name": "stdout",
     "output_type": "stream",
     "text": [
      "Missing values after filling:\n",
      " Institute                1\n",
      "Quota                    1\n",
      "Gender                   1\n",
      "Year                     0\n",
      "Academic_Program_Name    1\n",
      "Closing_Rank             0\n",
      "Opening_Rank             0\n",
      "Seat_Type                1\n",
      "dtype: int64\n"
     ]
    }
   ],
   "source": [
    "data_avg['Closing_Rank'] = pd.to_numeric(data_avg['Closing_Rank'], errors='coerce')\n",
    "data_avg['Opening_Rank'] = pd.to_numeric(data_avg['Opening_Rank'], errors='coerce')\n",
    "\n",
    "\n",
    "mean_closing_rank = data_avg['Closing_Rank'].mean()\n",
    "mean_opening_rank = data_avg['Opening_Rank'].mean()\n",
    "\n",
    "\n",
    "data_min['Closing_Rank'].fillna(min_closing_rank, inplace=True)\n",
    "data_min['Opening_Rank'].fillna(min_opening_rank, inplace=True)\n",
    "\n",
    "\n",
    "print(\"Missing values after filling:\\n\", data_min.isnull().sum())"
   ]
  },
  {
   "cell_type": "markdown",
   "id": "003f48aa-80b3-47d5-a946-3a228ab3d8d8",
   "metadata": {},
   "source": [
    "<h3>Replacing Missing Values with Max Values</h3>"
   ]
  },
  {
   "cell_type": "code",
   "execution_count": 35,
   "id": "ef6848e5-e5f3-4870-aa7a-1ef7ce254c66",
   "metadata": {},
   "outputs": [
    {
     "data": {
      "text/html": [
       "<div>\n",
       "<style scoped>\n",
       "    .dataframe tbody tr th:only-of-type {\n",
       "        vertical-align: middle;\n",
       "    }\n",
       "\n",
       "    .dataframe tbody tr th {\n",
       "        vertical-align: top;\n",
       "    }\n",
       "\n",
       "    .dataframe thead th {\n",
       "        text-align: right;\n",
       "    }\n",
       "</style>\n",
       "<table border=\"1\" class=\"dataframe\">\n",
       "  <thead>\n",
       "    <tr style=\"text-align: right;\">\n",
       "      <th></th>\n",
       "      <th>Year</th>\n",
       "    </tr>\n",
       "  </thead>\n",
       "  <tbody>\n",
       "    <tr>\n",
       "      <th>count</th>\n",
       "      <td>20834.000000</td>\n",
       "    </tr>\n",
       "    <tr>\n",
       "      <th>mean</th>\n",
       "      <td>2020.728281</td>\n",
       "    </tr>\n",
       "    <tr>\n",
       "      <th>std</th>\n",
       "      <td>2.374532</td>\n",
       "    </tr>\n",
       "    <tr>\n",
       "      <th>min</th>\n",
       "      <td>2016.000000</td>\n",
       "    </tr>\n",
       "    <tr>\n",
       "      <th>25%</th>\n",
       "      <td>2019.000000</td>\n",
       "    </tr>\n",
       "    <tr>\n",
       "      <th>50%</th>\n",
       "      <td>2021.000000</td>\n",
       "    </tr>\n",
       "    <tr>\n",
       "      <th>75%</th>\n",
       "      <td>2023.000000</td>\n",
       "    </tr>\n",
       "    <tr>\n",
       "      <th>max</th>\n",
       "      <td>2024.000000</td>\n",
       "    </tr>\n",
       "  </tbody>\n",
       "</table>\n",
       "</div>"
      ],
      "text/plain": [
       "               Year\n",
       "count  20834.000000\n",
       "mean    2020.728281\n",
       "std        2.374532\n",
       "min     2016.000000\n",
       "25%     2019.000000\n",
       "50%     2021.000000\n",
       "75%     2023.000000\n",
       "max     2024.000000"
      ]
     },
     "execution_count": 35,
     "metadata": {},
     "output_type": "execute_result"
    }
   ],
   "source": [
    "data_max=pd.read_csv('DataSet-max.csv')\n",
    "data_max.describe()"
   ]
  },
  {
   "cell_type": "code",
   "execution_count": 36,
   "id": "2338ca72-23a5-4d5f-b641-d5260eb8cece",
   "metadata": {},
   "outputs": [
    {
     "name": "stdout",
     "output_type": "stream",
     "text": [
      "Missing values in dataset:\n",
      " Institute                 1\n",
      "Quota                     1\n",
      "Gender                    1\n",
      "Year                      0\n",
      "Academic_Program_Name     1\n",
      "Closing_Rank             41\n",
      "Opening_Rank             37\n",
      "Seat_Type                 1\n",
      "dtype: int64\n"
     ]
    }
   ],
   "source": [
    "print(\"Missing values in dataset:\\n\", data_max.isnull().sum())"
   ]
  },
  {
   "cell_type": "code",
   "execution_count": 38,
   "id": "84bada1f-d70a-4990-8d9c-e1fb9e8ff446",
   "metadata": {},
   "outputs": [
    {
     "name": "stdout",
     "output_type": "stream",
     "text": [
      "Missing values after filling:\n",
      " Institute                1\n",
      "Quota                    1\n",
      "Gender                   1\n",
      "Year                     0\n",
      "Academic_Program_Name    1\n",
      "Closing_Rank             0\n",
      "Opening_Rank             0\n",
      "Seat_Type                1\n",
      "dtype: int64\n"
     ]
    },
    {
     "name": "stderr",
     "output_type": "stream",
     "text": [
      "C:\\Users\\shukl\\AppData\\Local\\Temp\\ipykernel_7056\\3051898924.py:9: FutureWarning: A value is trying to be set on a copy of a DataFrame or Series through chained assignment using an inplace method.\n",
      "The behavior will change in pandas 3.0. This inplace method will never work because the intermediate object on which we are setting values always behaves as a copy.\n",
      "\n",
      "For example, when doing 'df[col].method(value, inplace=True)', try using 'df.method({col: value}, inplace=True)' or df[col] = df[col].method(value) instead, to perform the operation inplace on the original object.\n",
      "\n",
      "\n",
      "  data_max['Closing_Rank'].fillna(max_closing_rank, inplace=True)\n",
      "C:\\Users\\shukl\\AppData\\Local\\Temp\\ipykernel_7056\\3051898924.py:10: FutureWarning: A value is trying to be set on a copy of a DataFrame or Series through chained assignment using an inplace method.\n",
      "The behavior will change in pandas 3.0. This inplace method will never work because the intermediate object on which we are setting values always behaves as a copy.\n",
      "\n",
      "For example, when doing 'df[col].method(value, inplace=True)', try using 'df.method({col: value}, inplace=True)' or df[col] = df[col].method(value) instead, to perform the operation inplace on the original object.\n",
      "\n",
      "\n",
      "  data_max['Opening_Rank'].fillna(max_opening_rank, inplace=True)\n"
     ]
    }
   ],
   "source": [
    "data_max['Closing_Rank'] = pd.to_numeric(data_max['Closing_Rank'], errors='coerce')\n",
    "data_max['Opening_Rank'] = pd.to_numeric(data_max['Opening_Rank'], errors='coerce')\n",
    "\n",
    "\n",
    "max_closing_rank = data_max['Closing_Rank'].mean()\n",
    "max_opening_rank = data_max['Opening_Rank'].mean()\n",
    "\n",
    "\n",
    "data_max['Closing_Rank'].fillna(max_closing_rank, inplace=True)\n",
    "data_max['Opening_Rank'].fillna(max_opening_rank, inplace=True)\n",
    "\n",
    "\n",
    "print(\"Missing values after filling:\\n\", data_max.isnull().sum())"
   ]
  },
  {
   "cell_type": "code",
   "execution_count": null,
   "id": "3b2364b4-8f06-45e8-a88e-90335c31d91c",
   "metadata": {},
   "outputs": [],
   "source": []
  }
 ],
 "metadata": {
  "kernelspec": {
   "display_name": "Python 3 (ipykernel)",
   "language": "python",
   "name": "python3"
  },
  "language_info": {
   "codemirror_mode": {
    "name": "ipython",
    "version": 3
   },
   "file_extension": ".py",
   "mimetype": "text/x-python",
   "name": "python",
   "nbconvert_exporter": "python",
   "pygments_lexer": "ipython3",
   "version": "3.12.4"
  }
 },
 "nbformat": 4,
 "nbformat_minor": 5
}
